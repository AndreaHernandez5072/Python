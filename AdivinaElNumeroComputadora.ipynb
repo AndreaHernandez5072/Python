{
  "nbformat": 4,
  "nbformat_minor": 0,
  "metadata": {
    "colab": {
      "provenance": [],
      "authorship_tag": "ABX9TyMc/vtQomzi2hQKeK+5Mmh/",
      "include_colab_link": true
    },
    "kernelspec": {
      "name": "python3",
      "display_name": "Python 3"
    },
    "language_info": {
      "name": "python"
    }
  },
  "cells": [
    {
      "cell_type": "markdown",
      "metadata": {
        "id": "view-in-github",
        "colab_type": "text"
      },
      "source": [
        "<a href=\"https://colab.research.google.com/github/AndreaHernandez5072/Python/blob/main/AdivinaElNumeroComputadora.ipynb\" target=\"_parent\"><img src=\"https://colab.research.google.com/assets/colab-badge.svg\" alt=\"Open In Colab\"/></a>"
      ]
    },
    {
      "cell_type": "code",
      "execution_count": 11,
      "metadata": {
        "id": "U8Nl8rhEAQzs",
        "colab": {
          "base_uri": "https://localhost:8080/"
        },
        "outputId": "773fa1f6-c109-4cdb-fce0-cc0e8544e654"
      },
      "outputs": [
        {
          "output_type": "stream",
          "name": "stdout",
          "text": [
            "========================================\n",
            "Bienvenido\n",
            "========================================\n",
            "Ingrese el limite superior: 40\n",
            "Selecciona un número entre 1 y 40 para que la computadora intente adivinarlo\n",
            "Mi predicción es 28. Si es muy alta ingresa (A). Si es muy baja ingresa (B). Si es correcta ingresa (C). B\n",
            "Mi predicción es 29. Si es muy alta ingresa (A). Si es muy baja ingresa (B). Si es correcta ingresa (C). B\n",
            "Mi predicción es 36. Si es muy alta ingresa (A). Si es muy baja ingresa (B). Si es correcta ingresa (C). B\n",
            "Mi predicción es 38. Si es muy alta ingresa (A). Si es muy baja ingresa (B). Si es correcta ingresa (C). A\n",
            "Mi predicción es 37. Si es muy alta ingresa (A). Si es muy baja ingresa (B). Si es correcta ingresa (C). C\n",
            "¡Adivino! la respuesta correcta es 37\n"
          ]
        }
      ],
      "source": [
        "import random\n",
        "\n",
        "def adivina_el_numero_computadora(LS):\n",
        "  LI=1\n",
        "\n",
        "  print(f\"Selecciona un número entre {LI} y {LS} para que la computadora intente adivinarlo\")\n",
        "  respuesta=\"\"\n",
        "  while respuesta != \"c\":\n",
        "    #Generando predicción\n",
        "    if LI != LS:\n",
        "      predicion=random.randint(LI,LS)\n",
        "    else:\n",
        "      predicion=LS\n",
        "    respuesta=input(f\"Mi predicción es {predicion}. Si es muy alta ingresa (A). Si es muy baja ingresa (B). Si es correcta ingresa (C). \").lower()\n",
        "\n",
        "    if respuesta ==\"a\":\n",
        "      LS = predicion - 1\n",
        "    elif respuesta == \"b\":\n",
        "      LI = predicion+1\n",
        "    else:\n",
        "      print(f\"¡Adivine! la respuesta correcta es {predicion}\")\n",
        "\n",
        "def bienvenida():\n",
        "  print(\"=\"*40)\n",
        "  print(\"Bienvenido\")\n",
        "  print(\"=\"*40)\n",
        "\n",
        "bienvenida()\n",
        "a = int(input(\"Ingrese el limite superior: \"))\n",
        "adivina_el_numero_computadora(a)\n"
      ]
    }
  ]
}