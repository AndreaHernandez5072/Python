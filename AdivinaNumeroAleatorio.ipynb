{
  "nbformat": 4,
  "nbformat_minor": 0,
  "metadata": {
    "colab": {
      "provenance": [],
      "authorship_tag": "ABX9TyOdTuhRug4RwBTliIUWWuls",
      "include_colab_link": true
    },
    "kernelspec": {
      "name": "python3",
      "display_name": "Python 3"
    },
    "language_info": {
      "name": "python"
    }
  },
  "cells": [
    {
      "cell_type": "markdown",
      "metadata": {
        "id": "view-in-github",
        "colab_type": "text"
      },
      "source": [
        "<a href=\"https://colab.research.google.com/github/AndreaHernandez5072/Python/blob/main/AdivinaNumeroAleatorio.ipynb\" target=\"_parent\"><img src=\"https://colab.research.google.com/assets/colab-badge.svg\" alt=\"Open In Colab\"/></a>"
      ]
    },
    {
      "cell_type": "markdown",
      "source": [
        "# Adivina el número\n",
        "Juego interactivo donde el usuario trata adivinar el número aleatorio generado por la computadora."
      ],
      "metadata": {
        "id": "MVw3yGjAJSFc"
      }
    },
    {
      "cell_type": "code",
      "source": [
        "import random"
      ],
      "metadata": {
        "id": "VngOlwLYKHEa"
      },
      "execution_count": 1,
      "outputs": []
    },
    {
      "cell_type": "code",
      "source": [
        "def adivina_el_numero(rango_Sup):\n",
        "  num_Aleatorio = random.randint(1,rango_Sup)\n",
        "  predicion = 0\n",
        "  while predicion != num_Random :\n",
        "    predicion = int(input(f\"Adivina un numero entre \"))"
      ],
      "metadata": {
        "id": "WNVaZ0bVK6qY"
      },
      "execution_count": 10,
      "outputs": []
    },
    {
      "cell_type": "code",
      "source": [
        "print(\"=\"*60)\n",
        "print(\"Bienvenido al juego\")\n",
        "print(\"=\"*60)\n",
        "print(\"Adivina el número generado por la computadora.\")\n",
        "rango_Sup=int(input(\"Ingresa el rango máximo que te gustaría adivinar: \"))\n",
        "adivina_el_numero(rango_Sup)\n"
      ],
      "metadata": {
        "colab": {
          "base_uri": "https://localhost:8080/"
        },
        "id": "gHvj_h7fJyUN",
        "outputId": "277f153d-e354-419a-98f8-a7a6731eac62"
      },
      "execution_count": 12,
      "outputs": [
        {
          "output_type": "stream",
          "name": "stdout",
          "text": [
            "============================================================\n",
            "Bienvenido al juego\n",
            "============================================================\n",
            "Adivina el número generado por la computadora.\n",
            "Ingresa el rango máximo que te gustaría adivinar: 100\n",
            "20\n"
          ]
        }
      ]
    }
  ]
}