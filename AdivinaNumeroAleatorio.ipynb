{
  "nbformat": 4,
  "nbformat_minor": 0,
  "metadata": {
    "colab": {
      "provenance": [],
      "authorship_tag": "ABX9TyNaY9Rne9qJ7Uak9c8JScvD",
      "include_colab_link": true
    },
    "kernelspec": {
      "name": "python3",
      "display_name": "Python 3"
    },
    "language_info": {
      "name": "python"
    }
  },
  "cells": [
    {
      "cell_type": "markdown",
      "metadata": {
        "id": "view-in-github",
        "colab_type": "text"
      },
      "source": [
        "<a href=\"https://colab.research.google.com/github/AndreaHernandez5072/Python/blob/main/AdivinaNumeroAleatorio.ipynb\" target=\"_parent\"><img src=\"https://colab.research.google.com/assets/colab-badge.svg\" alt=\"Open In Colab\"/></a>"
      ]
    },
    {
      "cell_type": "markdown",
      "source": [
        "# Adivina el número\n",
        "Juego interactivo donde el usuario trata adivinar el número aleatorio generado por la computadora."
      ],
      "metadata": {
        "id": "MVw3yGjAJSFc"
      }
    },
    {
      "cell_type": "code",
      "source": [
        "import random"
      ],
      "metadata": {
        "id": "VngOlwLYKHEa"
      },
      "execution_count": 1,
      "outputs": []
    },
    {
      "cell_type": "code",
      "source": [
        "def adivina_el_numero(rango_Sup):\n",
        "  num_Aleatorio = random.randint(1,rango_Sup)\n",
        "  predicion = 0\n",
        "  while predicion != num_Aleatorio :\n",
        "    print(\"=\"*80)\n",
        "    predicion = int(input(f\"Ingresa un numero entre 1 y {rango_Sup}. El valor es: \"))\n",
        "    if predicion < num_Aleatorio:\n",
        "      print(\"El valor ingresado es menor al número aleatorio. Intenta otra vez.\")\n",
        "    elif predicion > num_Aleatorio:\n",
        "      print(\"El valor ingresado es mayor al número aleatorio. Intenta otra vez.\")\n",
        "    else:\n",
        "      print(f\"¡Adivinaste! El valor aleatorio era {predicion}\")\n",
        ""
      ],
      "metadata": {
        "id": "WNVaZ0bVK6qY"
      },
      "execution_count": 23,
      "outputs": []
    },
    {
      "cell_type": "code",
      "source": [
        "print(\"=\"*80)\n",
        "print(\"Bienvenido al juego\")\n",
        "print(\"=\"*80)\n",
        "print(\"Adivina el número generado por la computadora.\")\n",
        "rango_Sup=int(input(\"Ingresa el rango máximo que te gustaría adivinar: \"))\n",
        "adivina_el_numero(rango_Sup)\n"
      ],
      "metadata": {
        "colab": {
          "base_uri": "https://localhost:8080/"
        },
        "id": "gHvj_h7fJyUN",
        "outputId": "917f31f7-3239-450a-813f-8878f91b2c97"
      },
      "execution_count": 24,
      "outputs": [
        {
          "output_type": "stream",
          "name": "stdout",
          "text": [
            "================================================================================\n",
            "Bienvenido al juego\n",
            "================================================================================\n",
            "Adivina el número generado por la computadora.\n",
            "Ingresa el rango máximo que te gustaría adivinar: 3\n",
            "================================================================================\n",
            "Ingresa un numero entre 1 y 3. El valor es: 2\n",
            "El valor ingresado es menor al número aleatorio. Intenta otra vez.\n",
            "================================================================================\n",
            "Ingresa un numero entre 1 y 3. El valor es: 3\n",
            "¡Adivinaste! El valor aleatorio era 3\n"
          ]
        }
      ]
    }
  ]
}