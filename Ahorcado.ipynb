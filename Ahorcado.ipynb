{
  "nbformat": 4,
  "nbformat_minor": 0,
  "metadata": {
    "colab": {
      "provenance": [],
      "authorship_tag": "ABX9TyMtA4rgt2HyBl0j5dZpCCDC",
      "include_colab_link": true
    },
    "kernelspec": {
      "name": "python3",
      "display_name": "Python 3"
    },
    "language_info": {
      "name": "python"
    }
  },
  "cells": [
    {
      "cell_type": "markdown",
      "metadata": {
        "id": "view-in-github",
        "colab_type": "text"
      },
      "source": [
        "<a href=\"https://colab.research.google.com/github/AndreaHernandez5072/Python/blob/main/Ahorcado.ipynb\" target=\"_parent\"><img src=\"https://colab.research.google.com/assets/colab-badge.svg\" alt=\"Open In Colab\"/></a>"
      ]
    },
    {
      "cell_type": "code",
      "execution_count": 5,
      "metadata": {
        "colab": {
          "base_uri": "https://localhost:8080/"
        },
        "id": "xKsPCHBfyfRY",
        "outputId": "7eb82638-8a07-4670-a901-0caa654726f0"
      },
      "outputs": [
        {
          "output_type": "stream",
          "name": "stdout",
          "text": [
            "============================================================\n",
            "Bienvenido\n",
            "============================================================\n",
            "Vidas disponibles: 7 y has usado estas letras: \n",
            "None\n",
            "Palbra es: [' _ ', ' _ ', ' _ ']\n",
            "Escoge una letra: a\n",
            "\n",
            "La letra A no está en la palabra.\n",
            "Vidas disponibles: 6 y has usado estas letras: A\n",
            "None\n",
            "Palbra es: [' _ ', ' _ ', ' _ ']\n",
            "Escoge una letra: e\n",
            "\n",
            "Vidas disponibles: 6 y has usado estas letras: A E\n",
            "None\n",
            "Palbra es: [' _ ', 'E', ' _ ']\n",
            "Escoge una letra: n\n",
            "\n",
            "La letra N no está en la palabra.\n",
            "Vidas disponibles: 5 y has usado estas letras: A E N\n",
            "None\n",
            "Palbra es: [' _ ', 'E', ' _ ']\n",
            "Escoge una letra: m\n",
            "\n",
            "La letra M no está en la palabra.\n",
            "Vidas disponibles: 4 y has usado estas letras: A E N M\n",
            "None\n",
            "Palbra es: [' _ ', 'E', ' _ ']\n",
            "Escoge una letra: i\n",
            "\n",
            "La letra I no está en la palabra.\n",
            "Vidas disponibles: 3 y has usado estas letras: E I N A M\n",
            "None\n",
            "Palbra es: [' _ ', 'E', ' _ ']\n",
            "Escoge una letra: o\n",
            "\n",
            "La letra O no está en la palabra.\n",
            "Vidas disponibles: 2 y has usado estas letras: O E I N A M\n",
            "None\n",
            "Palbra es: [' _ ', 'E', ' _ ']\n",
            "Escoge una letra: u\n",
            "\n",
            "La letra U no está en la palabra.\n",
            "Vidas disponibles: 1 y has usado estas letras: O E I U N A M\n",
            "None\n",
            "Palbra es: [' _ ', 'E', ' _ ']\n",
            "Escoge una letra: f\n",
            "\n",
            "La letra F no está en la palabra.\n",
            "============================================================\n",
            "JUEGO TERMINADO Y PERDISTE\n",
            "La palabra era PEZ\n"
          ]
        }
      ],
      "source": [
        "import random\n",
        "import string\n",
        "\n",
        "def ahorcado():\n",
        "  print(\"=\"*60)\n",
        "  print(\"Bienvenido\")\n",
        "  print(\"=\"*60)\n",
        "\n",
        "  palabra_Adivinar=obtener_Palabra_Valida()\n",
        "  #Conjunto en python que no deben repetirse\n",
        "  letras_Por_Adivinar= set(palabra_Adivinar)\n",
        "  #Conjunto inicializado en vacio por qué usar {} ni [] crea un diccionario\n",
        "  letras_Adivinadas= set()\n",
        "  #Usando string permite crear un conjunto de todas las letras en mayusculas\n",
        "  abecedario= set(string.ascii_uppercase)\n",
        "  vidas=7\n",
        "  while len(letras_Por_Adivinar) > 0 and vidas > 0:\n",
        "    #' '.join(letras_Adivinadas) regresaria A B C\n",
        "    print(f\"Vidas disponibles: {vidas} y has usado estas letras: {' '.join(letras_Adivinadas)}\")\n",
        "    #Mostrar estado actual de la palabra H _ LA\n",
        "    palabra_lista=[letra if letra in letras_Adivinadas else \" _ \" for letra in palabra_Adivinar]\n",
        "    print(f\"Palbra es: {palabra_lista}\")\n",
        "    letra_Usuario=input(\"Escoge una letra: \").upper()\n",
        "\n",
        "    #Letra está en abecedario y no está en letras adivinadas, agrega a la lista de letras adivinadas\n",
        "    if letra_Usuario in abecedario - letras_Adivinadas:\n",
        "      #Agregar letras al conjunto de adivinadas\n",
        "      letras_Adivinadas.add(letra_Usuario)\n",
        "      #Si la letra está en la palabra\n",
        "      #quitar la letra de conjunto de letras por adivinar\n",
        "      #si no quitar la vida\n",
        "      if letra_Usuario in letras_Por_Adivinar:\n",
        "        letras_Por_Adivinar.remove(letra_Usuario)\n",
        "        print('')\n",
        "      else:\n",
        "        vidas -=1\n",
        "        print(f\"\\nLa letra {letra_Usuario} no está en la palabra.\")\n",
        "    elif letra_Usuario in letras_Adivinadas:\n",
        "      print(f\"\\nLa letra {letra_Usuario} ya escogida, ingresa letra diferente.\")\n",
        "    else:\n",
        "      print(f\"\\nLa letra {letra_Usuario} no es válida.\")\n",
        "\n",
        "  if vidas == 0:\n",
        "    print(\"=\"*60)\n",
        "    print(\"JUEGO TERMINADO Y PERDISTE\")\n",
        "    print(f\"La palabra era {palabra_Adivinar}\")\n",
        "  else:\n",
        "    print(\"=\"*60)\n",
        "    print(\"JUEGO TERMINADO Y GANASTE\")\n",
        "    print(f\"La palabra adivinada es: {palabra_Adivinar}\")\n",
        "\n",
        "\n",
        "\n",
        "def obtener_Palabra_Valida():\n",
        "  palabras = [\"aire\", \"ojos\", \"piel\", \"anteojos\", \"joven\", \"viejo\", \"alto\", \"bajo\", \"pequeño\", \"gordo\", \"delgado\", \"bella\", \"azul\", \"verde\", \"negro\", \"sombrero\", \"guantes\", \"corbata\", \"gemelos\", \"paraguas\", \"plata\", \"oro\", \"perla\", \"diamante\", \"esmeralda\", \"anillo\", \"pulsera\", \"reloj\", \"elegante\", \"sencillo\", \"chaqueta\", \"traje\", \"camisa\", \"zapatos\", \"pelo\", \"maquillaje\", \"peine\", \"dedo\", \"hueso\", \"cara\", \"ojo\", \"calor\", \"ambulancia\", \"enfermera\", \"farmacia\", \"vitaminas\", \"pastillas\", \"dentista\", \"ciego\", \"correr\", \"caminar\", \"regresar\", \"saltar\", \"fin\", \"cerrar\", \"nombre\", \"mujer\", \"hombre\", \"soltero\", \"novio\", \"nacer\", \"vivir\", \"edad\", \"anciana\",\"trabajar\", \"cobrar\", \"azafata\", \"artista\", \"panadero\", \"carpintero\", \"cocinero\", \"maestro\", \"bombero\", \"juez\", \"modelo\", \"monje\", \"pintor\", \"piloto\", \"secretaria\", \"taxista\", \"escritor\", \"jefe\", \"aprendiz\", \"jubilado\", \"empleo\", \"industria\", \"taller\", \"tienda\", \"vacaciones\", \"sueldo\", \"impuesto\", \"huelga\", \"obedecer\", \"locura\", \"humor\", \"inteligencia\", \"orgullo\", \"timidez\", \"valiente\", \"aburrido\", \"loco\", \"divertido\", \"bueno\", \"feliz\", \"amable\", \"pobre\", \"serio\", \"extraño\", \"gritar\", \"llorar\", \"suspirar\", \"preocupado\", \"risa\", \"amor\", \"suerte\", \"enamorado\", \"ver\", \"apagar\", \"luz\", \"color\", \"lupa\", \"microscopio\", \"claro\", \"cantar\", \"silbar\", \"voz\", \"eco\", \"trueno\", \"altavoz\", \"radio\", \"auricular\", \"liso\", \"comer\", \"dulce\", \"salado\", \"perfume\", \"despertarse\", \"vestirse\", \"desayunar\", \"leer\", \"dormirse\", \"toalla\", \"cobija\", \"almuerzo\", \"sopa\", \"agua\", \"leche\", \"jugo\", \"sal\", \"pimienta\", \"vinagre\", \"ajo\", \"perejil\", \"menta\", \"canela\", \"mayonesa\", \"pan\", \"mantequilla\", \"miel\", \"manzana\", \"pera\", \"durazno\", \"cereza\", \"papa\", \"lechuga\", \"arroz\", \"pollo\", \"pavo\", \"hamburguesa\", \"camarones\", \"tortilla\", \"espagueti\", \"sopa\", \"helado\", \"chocolate\", \"galletas\", \"bombones\", \"limpiar\", \"cortar\", \"hervir\", \"planchar\", \"aspiradora\", \"plancha\", \"horno\", \"abrelatas\", \"vajilla\", \"vaso\", \"cafetera\", \"azucarera\", \"comprar\", \"gastar\", \"vender\", \"barato\", \"caro\", \"gratis\", \"cliente\", \"bolsa\", \"precio\", \"recibo\", \"ascensor\", \"esquiar\", \"ciclismo\", \"golf\", \"pelota\", \"tenis\", \"bicicleta\", \"estadio\", \"gol\", \"torneo\", \"leer\", \"dibujar\", \"cantar\", \"bailar\", \"libro\", \"revista\", \"clavo\", \"cine\", \"pala\", \"cocina\", \"hielo\", \"coro\", \"piano\", \"cartas\", \"pesca\", \"radio\", \"noticias\", \"televisor\", \"documental\", \"anuncio\", \"aplaudir\", \"teatro\", \"circo\", \"mago\", \"disco\", \"portero\", \"propina\", \"regalo\", \"fiesta\", \"vela\", \"alfombra\", \"puerta\", \"ventana\", \"cortina\", \"escritorio\", \"cuadro\", \"juguete\", \"alquiler\", \"mudanza\", \"casa\", \"pared\", \"chimenea\", \"comedor\", \"plaza\", \"calle\", \"estacionamiento\", \"parque\", \"puente\", \"puerto\", \"edificio\", \"escuela\", \"museo\", \"estatua\", \"fuente\", \"turista\", \"mendigo\", \"manejar\", \"acelerar\", \"frenar\", \"cruzar\", \"reparar\", \"conductor\", \"multa\", \"atasco\", \"carretera\", \"peaje\", \"curva\", \"florecer\", \"campo\", \"bosque\", \"huerto\", \"selva\", \"tronco\", \"rama\", \"flor\", \"hoja\", \"musgo\", \"cedro\", \"roble\", \"pino\", \"nogal\", \"naranjo\", \"tallo\", \"clavel\", \"margarita\", \"amapola\", \"rosa\", \"girasol\", \"violeta\", \"gato\", \"perro\", \"vaca\", \"pato\", \"oveja\", \"conejo\", \"pez\", \"oso\", \"jirafa\", \"erizo\", \"mariposa\", \"foca\", \"tigre\", \"cobra\", \"almeja\", \"paloma\", \"cisne\", \"mosquito\", \"hormiga\", \"llover\", \"nevar\", \"nublado\", \"soleado\", \"clima\", \"rayo\", \"nieve\", \"sol\", \"viento\", \"padre\", \"madre\", \"hijo\", \"abuela\", \"estudioso\", \"aula\", \"tiza\", \"regla\", \"computadora\", \"diccionario\"]\n",
        "  palabra=random.choice(palabras)\n",
        "  while \"-\" in palabra or \" \" in palabra:\n",
        "    palabra=random.choice(palabras)\n",
        "\n",
        "  return palabra.upper()\n",
        "\n",
        "ahorcado()"
      ]
    }
  ]
}