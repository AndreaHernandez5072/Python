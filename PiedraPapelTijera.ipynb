{
  "nbformat": 4,
  "nbformat_minor": 0,
  "metadata": {
    "colab": {
      "provenance": [],
      "authorship_tag": "ABX9TyP7g7ZAXDSCImUs7xyQ+yZr",
      "include_colab_link": true
    },
    "kernelspec": {
      "name": "python3",
      "display_name": "Python 3"
    },
    "language_info": {
      "name": "python"
    }
  },
  "cells": [
    {
      "cell_type": "markdown",
      "metadata": {
        "id": "view-in-github",
        "colab_type": "text"
      },
      "source": [
        "<a href=\"https://colab.research.google.com/github/AndreaHernandez5072/Python/blob/main/PiedraPapelTijera.ipynb\" target=\"_parent\"><img src=\"https://colab.research.google.com/assets/colab-badge.svg\" alt=\"Open In Colab\"/></a>"
      ]
    },
    {
      "cell_type": "code",
      "execution_count": 7,
      "metadata": {
        "id": "74T4qbpFA0hx",
        "colab": {
          "base_uri": "https://localhost:8080/",
          "height": 145
        },
        "outputId": "c376e3ed-7210-45e5-9524-76dc1f00bc7e"
      },
      "outputs": [
        {
          "output_type": "stream",
          "name": "stdout",
          "text": [
            "============================================================\n",
            "Bienvenido\n",
            "============================================================\n",
            "Ingrese piedra(R), tijera (T) y papel (P): \n",
            "t\n",
            "Computadora eligio: t\n"
          ]
        },
        {
          "output_type": "execute_result",
          "data": {
            "text/plain": [
              "'¡Empate!'"
            ],
            "application/vnd.google.colaboratory.intrinsic+json": {
              "type": "string"
            }
          },
          "metadata": {},
          "execution_count": 7
        }
      ],
      "source": [
        "import random\n",
        "\n",
        "def juego(us):\n",
        "  computadora=random.choice([\"r\",\"t\",\"p\"])\n",
        "  if us==computadora:\n",
        "    return \"¡Empate!\"\n",
        "\n",
        "  if gano_Juego(us,computadora):\n",
        "    return \"¡Ganaste!\"\n",
        "  else:\n",
        "    return \"¡Perdiste!\"\n",
        "\n",
        "\n",
        "def gano_Juego(usuario, computadora):\n",
        "  if ((usuario ==\"r\" and computadora==\"t\") or (usuario==\"t\" and computadora==\"p\") or (usuario==\"p\" and computadora==\"r\")):\n",
        "    return True\n",
        "  else:\n",
        "    return False\n",
        "\n",
        "\n",
        "print(\"=\"*60)\n",
        "print(\"Bienvenido\")\n",
        "print(\"=\"*60)\n",
        "u=input(\"Ingrese piedra(R), tijera (T) y papel (P): \\n\").lower()\n",
        "juego(u)"
      ]
    }
  ]
}