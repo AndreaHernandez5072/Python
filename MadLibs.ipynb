{
  "nbformat": 4,
  "nbformat_minor": 0,
  "metadata": {
    "colab": {
      "provenance": [],
      "authorship_tag": "ABX9TyOMPhec0gAMlBNT487t4a9R",
      "include_colab_link": true
    },
    "kernelspec": {
      "name": "python3",
      "display_name": "Python 3"
    },
    "language_info": {
      "name": "python"
    }
  },
  "cells": [
    {
      "cell_type": "markdown",
      "metadata": {
        "id": "view-in-github",
        "colab_type": "text"
      },
      "source": [
        "<a href=\"https://colab.research.google.com/github/AndreaHernandez5072/Python/blob/main/MadLibs.ipynb\" target=\"_parent\"><img src=\"https://colab.research.google.com/assets/colab-badge.svg\" alt=\"Open In Colab\"/></a>"
      ]
    },
    {
      "cell_type": "markdown",
      "source": [
        "Ejemplos de formas para concatenar texto en Python\n"
      ],
      "metadata": {
        "id": "kA2_X7T3FUX_"
      }
    },
    {
      "cell_type": "code",
      "execution_count": null,
      "metadata": {
        "id": "W6xSGGx1CeDI"
      },
      "outputs": [],
      "source": [
        "#Concatenar texto ejemplos\n",
        "#Incognita1 = \"_ \"*4\n",
        "#Incognita2 = \"_ \"*9\n",
        "#print(\"Bienvenido\\n\")\n",
        "#print(\"El mensaje a sustituir es el siguiente:\")\n",
        "#print(\"_\"*80+\"\\n\")\n",
        "#print(\"Simba es un \"+\"_ \"*5)\n",
        "#print(\"Guatemala es un {}. centroamericano ubicado en America.\".format(Incognita1))\n",
        "#la mejor forma de cadena de caracteres f string\n",
        "#print(f\"Guatemala el {Incognita1} pais de la eterna {Incognita2}.\")"
      ]
    },
    {
      "cell_type": "markdown",
      "source": [
        "Empieza el código"
      ],
      "metadata": {
        "id": "3B9_uKvcFQfz"
      }
    },
    {
      "cell_type": "code",
      "source": [
        "print(\"Bienvenido\\n\")\n",
        "print(\"A continuación, ingrese la información que se le solicita\")\n",
        "sus1=input(\"Sustantivo: \")\n",
        "sus2=input(\"Sustantivo: \")\n",
        "sus3=input(\"Sustantivo en plural: \")\n",
        "ver1=input(\"Verbo (pasado): \")\n",
        "\n",
        "print(\"\\nEl mensaje quedo de la siguiente manera: \\n\")\n",
        "madlib =f\"Simba es un {sus1} que {ver1} en la película de llamada '{sus2}' hace años en {sus3}\"\n",
        "print(madlib)"
      ],
      "metadata": {
        "colab": {
          "base_uri": "https://localhost:8080/"
        },
        "id": "HO7BoW8PGROd",
        "outputId": "25c89351-8837-4ce9-bb03-8bb9ddcaed99"
      },
      "execution_count": 12,
      "outputs": [
        {
          "output_type": "stream",
          "name": "stdout",
          "text": [
            "Bienvenido\n",
            "\n",
            "A continuación, ingrese la información que se le solicita\n",
            "Sustantivo: s\n",
            "Sustantivo: s\n",
            "Sustantivo en plural: s\n",
            "Verbo (pasado): s\n",
            "\n",
            "El mensaje quedo de la siguiente manera: \n",
            "\n",
            "Simba es un s que s en la película de llamada 's' hace años en s\n"
          ]
        }
      ]
    }
  ]
}